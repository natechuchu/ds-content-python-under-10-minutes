{
  "cells": [
    {
      "cell_type": "markdown",
      "metadata": {
        "id": "WQ0e8iFcqPIQ"
      },
      "source": [
        "![rmotr](https://user-images.githubusercontent.com/7065401/52071918-bda15380-2562-11e9-828c-7f95297e4a82.png)\n",
        "<hr style=\"margin-bottom: 40px;\">\n",
        "\n",
        "# Python in under 10 minutes - Exercises\n"
      ]
    },
    {
      "cell_type": "markdown",
      "metadata": {
        "id": "lbiAnkY4qPIS"
      },
      "source": [
        "![green-divider](https://user-images.githubusercontent.com/7065401/52071924-c003ad80-2562-11e9-8297-1c6595f8a7ff.png)\n",
        "\n",
        "### Exercise 1\n",
        "\n",
        "Convert the following `str` into `int` type.\n",
        "\n",
        "`revenue_as_string = \"500000\"`"
      ]
    },
    {
      "cell_type": "code",
      "execution_count": 1,
      "metadata": {
        "id": "d_RcRtelqPIS",
        "outputId": "7a4ed508-8fb4-48c5-d31c-8e54e90f6cfe",
        "colab": {
          "base_uri": "https://localhost:8080/"
        }
      },
      "outputs": [
        {
          "output_type": "execute_result",
          "data": {
            "text/plain": [
              "500000"
            ]
          },
          "metadata": {},
          "execution_count": 1
        }
      ],
      "source": [
        "revenue_as_string = \"500000\"\n",
        "\n",
        "# your code goes here\n",
        "\n",
        "int(revenue_as_string)"
      ]
    },
    {
      "cell_type": "code",
      "execution_count": null,
      "metadata": {
        "cell_type": "solution",
        "id": "Ts22skESqPIT",
        "outputId": "f356e732-0187-467a-82ae-abf307604330"
      },
      "outputs": [
        {
          "data": {
            "text/plain": [
              "500000"
            ]
          },
          "execution_count": 13,
          "metadata": {},
          "output_type": "execute_result"
        }
      ],
      "source": [
        "revenue_as_integer = int(revenue_as_string)\n",
        "\n",
        "revenue_as_integer"
      ]
    },
    {
      "cell_type": "markdown",
      "metadata": {
        "id": "uuuxOc1pqPIU"
      },
      "source": [
        "![green-divider](https://user-images.githubusercontent.com/7065401/52071924-c003ad80-2562-11e9-8297-1c6595f8a7ff.png)\n",
        "\n",
        "### Exercise 2\n",
        "\n",
        "Make a function using the following formula:\n",
        "\n",
        "$$ f(x,y) = 2 x + y $$"
      ]
    },
    {
      "cell_type": "code",
      "execution_count": 5,
      "metadata": {
        "id": "IVG_I6BCqPIU"
      },
      "outputs": [],
      "source": [
        "# your code goes here\n",
        "def func(x,y):\n",
        "  return 2*x + y"
      ]
    },
    {
      "cell_type": "markdown",
      "metadata": {
        "cell_type": "hint",
        "id": "acogu5sSqPIU"
      },
      "source": [
        "The function will have two parameters $x$ and $y$."
      ]
    },
    {
      "cell_type": "code",
      "execution_count": null,
      "metadata": {
        "cell_type": "solution",
        "id": "SFDDGqzvqPIU"
      },
      "outputs": [],
      "source": [
        "def func(x, y):\n",
        "    return 2*x + y"
      ]
    },
    {
      "cell_type": "code",
      "execution_count": null,
      "metadata": {
        "id": "wezQGgWrqPIV",
        "outputId": "58dbfc87-c5fd-47bf-9bc4-82d9f6747d3b"
      },
      "outputs": [
        {
          "data": {
            "text/plain": [
              "25"
            ]
          },
          "execution_count": 24,
          "metadata": {},
          "output_type": "execute_result"
        }
      ],
      "source": [
        "func(10, 5)"
      ]
    },
    {
      "cell_type": "code",
      "execution_count": null,
      "metadata": {
        "id": "Ut_-yEX8qPIV",
        "outputId": "1d568ee1-6085-44fd-fc57-e011e891b901"
      },
      "outputs": [
        {
          "data": {
            "text/plain": [
              "4"
            ]
          },
          "execution_count": 34,
          "metadata": {},
          "output_type": "execute_result"
        }
      ],
      "source": [
        "func(-3, 10)"
      ]
    },
    {
      "cell_type": "markdown",
      "metadata": {
        "id": "7rPOXfWWqPIV"
      },
      "source": [
        "![green-divider](https://user-images.githubusercontent.com/7065401/52071924-c003ad80-2562-11e9-8297-1c6595f8a7ff.png)\n",
        "\n",
        "### Exercise 3\n",
        "\n",
        "Make a function that receives a string as parameter and return the last letter on it."
      ]
    },
    {
      "cell_type": "code",
      "execution_count": 7,
      "metadata": {
        "id": "3kfrSHNpqPIW"
      },
      "outputs": [],
      "source": [
        "# your code goes here\n",
        "def func(x):\n",
        "  return x[-1]\n"
      ]
    },
    {
      "cell_type": "code",
      "execution_count": null,
      "metadata": {
        "cell_type": "solution",
        "id": "bpnu2ifCqPIW"
      },
      "outputs": [],
      "source": [
        "def last_letter(string):\n",
        "    return string[-1]"
      ]
    },
    {
      "cell_type": "code",
      "execution_count": null,
      "metadata": {
        "id": "Lhz2Moy_qPIW",
        "outputId": "404ef361-ce6e-40ee-a24f-dfc6f4360f20"
      },
      "outputs": [
        {
          "data": {
            "text/plain": [
              "'n'"
            ]
          },
          "execution_count": 22,
          "metadata": {},
          "output_type": "execute_result"
        }
      ],
      "source": [
        "last_letter('Python')"
      ]
    },
    {
      "cell_type": "code",
      "execution_count": null,
      "metadata": {
        "id": "B0YqVAAHqPIW",
        "outputId": "34a5e9a6-e277-4238-ba31-3c89998f32d3"
      },
      "outputs": [
        {
          "data": {
            "text/plain": [
              "'R'"
            ]
          },
          "execution_count": 32,
          "metadata": {},
          "output_type": "execute_result"
        }
      ],
      "source": [
        "last_letter('RMOTR')"
      ]
    },
    {
      "cell_type": "markdown",
      "metadata": {
        "id": "kcZ1usCmqPIX"
      },
      "source": [
        "![green-divider](https://user-images.githubusercontent.com/7065401/52071924-c003ad80-2562-11e9-8297-1c6595f8a7ff.png)\n",
        "\n",
        "### Exercise 4\n",
        "\n",
        "Make a function that receives a list as parameter and return how many elements it has; if it doesn't have any element return an error."
      ]
    },
    {
      "cell_type": "code",
      "execution_count": 9,
      "metadata": {
        "id": "qf0UcGhdqPIX"
      },
      "outputs": [],
      "source": [
        "# your code goes here\n",
        "def list_count(list):\n",
        "  size = len(list)\n",
        "  if (size > 0):\n",
        "    return 'List has {} elements'.format(size)\n",
        "  else:\n",
        "    return 'Error'"
      ]
    },
    {
      "cell_type": "code",
      "execution_count": null,
      "metadata": {
        "cell_type": "solution",
        "id": "77ayCx68qPIX"
      },
      "outputs": [],
      "source": [
        "def list_size(my_list):\n",
        "    size = len(my_list)\n",
        "\n",
        "    if (size > 0):\n",
        "        return 'List has {} elements'.format(size)\n",
        "    else:\n",
        "        return 'Error, no elements'"
      ]
    },
    {
      "cell_type": "code",
      "execution_count": 10,
      "metadata": {
        "id": "z0Dy0hKlqPIX",
        "outputId": "d57bb6ef-36f6-40f0-b42f-0a94327cc240",
        "colab": {
          "base_uri": "https://localhost:8080/",
          "height": 141
        }
      },
      "outputs": [
        {
          "output_type": "error",
          "ename": "NameError",
          "evalue": "name 'list_size' is not defined",
          "traceback": [
            "\u001b[0;31m---------------------------------------------------------------------------\u001b[0m",
            "\u001b[0;31mNameError\u001b[0m                                 Traceback (most recent call last)",
            "\u001b[0;32m<ipython-input-10-4c0abc75f3ff>\u001b[0m in \u001b[0;36m<cell line: 1>\u001b[0;34m()\u001b[0m\n\u001b[0;32m----> 1\u001b[0;31m \u001b[0mlist_size\u001b[0m\u001b[0;34m(\u001b[0m\u001b[0;34m[\u001b[0m\u001b[0;36m1\u001b[0m\u001b[0;34m,\u001b[0m \u001b[0;36m2\u001b[0m\u001b[0;34m,\u001b[0m \u001b[0;36m3\u001b[0m\u001b[0;34m]\u001b[0m\u001b[0;34m)\u001b[0m\u001b[0;34m\u001b[0m\u001b[0;34m\u001b[0m\u001b[0m\n\u001b[0m",
            "\u001b[0;31mNameError\u001b[0m: name 'list_size' is not defined"
          ]
        }
      ],
      "source": [
        "list_size([1, 2, 3])"
      ]
    },
    {
      "cell_type": "code",
      "execution_count": null,
      "metadata": {
        "id": "ufHccGIXqPIX",
        "outputId": "849df114-dc7e-4d7d-bd38-d4679611e50e"
      },
      "outputs": [
        {
          "data": {
            "text/plain": [
              "'Error, no elements'"
            ]
          },
          "execution_count": 31,
          "metadata": {},
          "output_type": "execute_result"
        }
      ],
      "source": [
        "list_size([])"
      ]
    },
    {
      "cell_type": "markdown",
      "metadata": {
        "id": "kO0zUzYDqPIY"
      },
      "source": [
        "![purple-divider](https://user-images.githubusercontent.com/7065401/52071927-c1cd7100-2562-11e9-908a-dde91ba14e59.png)"
      ]
    }
  ],
  "metadata": {
    "kernelspec": {
      "display_name": "Python 3",
      "language": "python",
      "name": "python3"
    },
    "language_info": {
      "codemirror_mode": {
        "name": "ipython",
        "version": 3
      },
      "file_extension": ".py",
      "mimetype": "text/x-python",
      "name": "python",
      "nbconvert_exporter": "python",
      "pygments_lexer": "ipython3",
      "version": "3.6.8"
    },
    "colab": {
      "provenance": []
    }
  },
  "nbformat": 4,
  "nbformat_minor": 0
}